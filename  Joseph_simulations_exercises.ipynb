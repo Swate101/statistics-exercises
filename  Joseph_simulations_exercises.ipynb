{
 "cells": [
  {
   "cell_type": "code",
   "execution_count": 1,
   "id": "3e75b98c",
   "metadata": {},
   "outputs": [],
   "source": [
    "import numpy as np\n",
    "import pandas as pd"
   ]
  },
  {
   "cell_type": "code",
   "execution_count": 2,
   "id": "f54e6ae7",
   "metadata": {},
   "outputs": [],
   "source": [
    "np.random.seed(100)"
   ]
  },
  {
   "cell_type": "code",
   "execution_count": 3,
   "id": "4ac4d59c",
   "metadata": {},
   "outputs": [
    {
     "data": {
      "text/html": [
       "<div>\n",
       "<style scoped>\n",
       "    .dataframe tbody tr th:only-of-type {\n",
       "        vertical-align: middle;\n",
       "    }\n",
       "\n",
       "    .dataframe tbody tr th {\n",
       "        vertical-align: top;\n",
       "    }\n",
       "\n",
       "    .dataframe thead th {\n",
       "        text-align: right;\n",
       "    }\n",
       "</style>\n",
       "<table border=\"1\" class=\"dataframe\">\n",
       "  <thead>\n",
       "    <tr style=\"text-align: right;\">\n",
       "      <th></th>\n",
       "      <th>die1</th>\n",
       "      <th>die2</th>\n",
       "    </tr>\n",
       "  </thead>\n",
       "  <tbody>\n",
       "    <tr>\n",
       "      <th>0</th>\n",
       "      <td>1</td>\n",
       "      <td>1</td>\n",
       "    </tr>\n",
       "    <tr>\n",
       "      <th>1</th>\n",
       "      <td>4</td>\n",
       "      <td>1</td>\n",
       "    </tr>\n",
       "    <tr>\n",
       "      <th>2</th>\n",
       "      <td>3</td>\n",
       "      <td>5</td>\n",
       "    </tr>\n",
       "    <tr>\n",
       "      <th>3</th>\n",
       "      <td>3</td>\n",
       "      <td>6</td>\n",
       "    </tr>\n",
       "    <tr>\n",
       "      <th>4</th>\n",
       "      <td>3</td>\n",
       "      <td>3</td>\n",
       "    </tr>\n",
       "  </tbody>\n",
       "</table>\n",
       "</div>"
      ],
      "text/plain": [
       "   die1  die2\n",
       "0     1     1\n",
       "1     4     1\n",
       "2     3     5\n",
       "3     3     6\n",
       "4     3     3"
      ]
     },
     "execution_count": 3,
     "metadata": {},
     "output_type": "execute_result"
    }
   ],
   "source": [
    "n_rows = 10_0000\n",
    "n_cols = 2 # to represent rolling two dice per each simulation\n",
    "rolls = np.random.choice([1, 2, 3, 4, 5, 6], size=(n_rows, n_cols))\n",
    "rolls = pd.DataFrame(rolls, columns=[\"die1\", \"die2\"])\n",
    "rolls.head()"
   ]
  },
  {
   "cell_type": "code",
   "execution_count": 4,
   "id": "c28078da",
   "metadata": {},
   "outputs": [
    {
     "data": {
      "text/plain": [
       "0.16611"
      ]
     },
     "execution_count": 4,
     "metadata": {},
     "output_type": "execute_result"
    }
   ],
   "source": [
    "n_simulations = nrows = 10**5\n",
    "n_dice_rolled = ncols = 2\n",
    "\n",
    "rolls = np.random.choice([1, 2, 3, 4, 5, 6], nrows * ncols).reshape(nrows, ncols)\n",
    "\n",
    "(pd.DataFrame(rolls)\n",
    " .apply(lambda row: row[0] == row[1] , axis=1)\n",
    " .mean())\n",
    "\n",
    "\n",
    "\n"
   ]
  },
  {
   "cell_type": "code",
   "execution_count": null,
   "id": "e2a5891c",
   "metadata": {},
   "outputs": [],
   "source": [
    "(rolls.sum(axis = 1) == 3).mean()"
   ]
  },
  {
   "cell_type": "code",
   "execution_count": null,
   "id": "7e5c37ce",
   "metadata": {},
   "outputs": [],
   "source": [
    "pd.DataFrame(rolls)"
   ]
  },
  {
   "cell_type": "code",
   "execution_count": null,
   "id": "9f1e155a",
   "metadata": {},
   "outputs": [],
   "source": [
    "# EXERCISE 2 "
   ]
  },
  {
   "cell_type": "code",
   "execution_count": null,
   "id": "0dba99ca",
   "metadata": {},
   "outputs": [],
   "source": [
    "n_rows = 10_000\n",
    "n_cols = 8 # for flipping 8 coins at once\n",
    "flips = np.random.choice([\"Heads\", \"Tails\"], size=(10_000, 8))\n",
    "flips = pd.DataFrame(flips)"
   ]
  },
  {
   "cell_type": "code",
   "execution_count": null,
   "id": "92b3a189",
   "metadata": {},
   "outputs": [],
   "source": [
    "(flips == \"Heads\").head()"
   ]
  },
  {
   "cell_type": "code",
   "execution_count": null,
   "id": "694b84c3",
   "metadata": {},
   "outputs": [],
   "source": [
    "pd.DataFrame(flips)"
   ]
  },
  {
   "cell_type": "code",
   "execution_count": null,
   "id": "9f5d74eb",
   "metadata": {},
   "outputs": [],
   "source": [
    "(flips.sum(axis = 1) > 3).mean()"
   ]
  },
  {
   "cell_type": "code",
   "execution_count": null,
   "id": "0594c674",
   "metadata": {
    "scrolled": false
   },
   "outputs": [],
   "source": [
    "flips[\"n_heads\"] = (flips == \"Heads\").sum(axis=1)\n",
    "flips.head()"
   ]
  },
  {
   "cell_type": "code",
   "execution_count": null,
   "id": "8e4598a3",
   "metadata": {},
   "outputs": [],
   "source": [
    "\n",
    "(flips.sum(axis = 1) == 3).mean()"
   ]
  },
  {
   "cell_type": "code",
   "execution_count": null,
   "id": "d7e29843",
   "metadata": {},
   "outputs": [],
   "source": [
    "# What's the probability of getting more than 3 heads\n",
    "(flips.n_heads > 3).mean()"
   ]
  },
  {
   "cell_type": "code",
   "execution_count": null,
   "id": "dea4e5b4",
   "metadata": {},
   "outputs": [],
   "source": [
    "# Exercise 3"
   ]
  },
  {
   "cell_type": "code",
   "execution_count": null,
   "id": "707c6020",
   "metadata": {},
   "outputs": [],
   "source": [
    "trips = 10**5\n",
    "billboards = 2\n",
    "Class = np.random.choice([1, 0, 0, 0], billboards * trips).reshape(trips, billboards)\n",
    "Class"
   ]
  },
  {
   "cell_type": "code",
   "execution_count": null,
   "id": "0b295f94",
   "metadata": {},
   "outputs": [],
   "source": [
    "pd.DataFrame(Class)"
   ]
  },
  {
   "cell_type": "code",
   "execution_count": null,
   "id": "163cd980",
   "metadata": {},
   "outputs": [],
   "source": [
    "(Class.sum(axis = 1) == 2).mean()"
   ]
  },
  {
   "cell_type": "code",
   "execution_count": null,
   "id": "a1f359c9",
   "metadata": {},
   "outputs": [],
   "source": [
    "n_rows = 10_000\n",
    "n_cols = 2 # for 2 billboards in a row\n",
    "\n",
    "billboards = np.random.choice([\"Web Development\", \"Data Science\"], p=[.75, .25], size=(n_rows, n_cols))\n",
    "billboards = pd.DataFrame(billboards)"
   ]
  },
  {
   "cell_type": "code",
   "execution_count": null,
   "id": "60c5ad3f",
   "metadata": {},
   "outputs": [],
   "source": [
    "billboards[\"number_of_data_science\"] = (billboards == \"Data Science\").sum(axis=1)\n",
    "(billboards.number_of_data_science == 2).mean()"
   ]
  },
  {
   "cell_type": "code",
   "execution_count": null,
   "id": "8b8ebc8f",
   "metadata": {},
   "outputs": [],
   "source": [
    "# Exercise 4 "
   ]
  },
  {
   "cell_type": "code",
   "execution_count": 8,
   "id": "e1a654fd",
   "metadata": {},
   "outputs": [
    {
     "data": {
      "text/html": [
       "<div>\n",
       "<style scoped>\n",
       "    .dataframe tbody tr th:only-of-type {\n",
       "        vertical-align: middle;\n",
       "    }\n",
       "\n",
       "    .dataframe tbody tr th {\n",
       "        vertical-align: top;\n",
       "    }\n",
       "\n",
       "    .dataframe thead th {\n",
       "        text-align: right;\n",
       "    }\n",
       "</style>\n",
       "<table border=\"1\" class=\"dataframe\">\n",
       "  <thead>\n",
       "    <tr style=\"text-align: right;\">\n",
       "      <th></th>\n",
       "      <th>Mon</th>\n",
       "      <th>Tues</th>\n",
       "      <th>Wed</th>\n",
       "      <th>Thur</th>\n",
       "      <th>Fri</th>\n",
       "    </tr>\n",
       "  </thead>\n",
       "  <tbody>\n",
       "    <tr>\n",
       "      <th>0</th>\n",
       "      <td>2.0</td>\n",
       "      <td>6.0</td>\n",
       "      <td>3.0</td>\n",
       "      <td>3.0</td>\n",
       "      <td>2.0</td>\n",
       "    </tr>\n",
       "    <tr>\n",
       "      <th>1</th>\n",
       "      <td>8.0</td>\n",
       "      <td>4.0</td>\n",
       "      <td>3.0</td>\n",
       "      <td>3.0</td>\n",
       "      <td>4.0</td>\n",
       "    </tr>\n",
       "    <tr>\n",
       "      <th>2</th>\n",
       "      <td>3.0</td>\n",
       "      <td>3.0</td>\n",
       "      <td>2.0</td>\n",
       "      <td>1.0</td>\n",
       "      <td>1.0</td>\n",
       "    </tr>\n",
       "    <tr>\n",
       "      <th>3</th>\n",
       "      <td>2.0</td>\n",
       "      <td>2.0</td>\n",
       "      <td>2.0</td>\n",
       "      <td>2.0</td>\n",
       "      <td>3.0</td>\n",
       "    </tr>\n",
       "    <tr>\n",
       "      <th>4</th>\n",
       "      <td>2.0</td>\n",
       "      <td>3.0</td>\n",
       "      <td>6.0</td>\n",
       "      <td>5.0</td>\n",
       "      <td>1.0</td>\n",
       "    </tr>\n",
       "  </tbody>\n",
       "</table>\n",
       "</div>"
      ],
      "text/plain": [
       "   Mon  Tues  Wed  Thur  Fri\n",
       "0  2.0   6.0  3.0   3.0  2.0\n",
       "1  8.0   4.0  3.0   3.0  4.0\n",
       "2  3.0   3.0  2.0   1.0  1.0\n",
       "3  2.0   2.0  2.0   2.0  3.0\n",
       "4  2.0   3.0  6.0   5.0  1.0"
      ]
     },
     "execution_count": 8,
     "metadata": {},
     "output_type": "execute_result"
    }
   ],
   "source": [
    "n_rows = 10_000\n",
    "n_cols = 5 # to represent a 5 day week\n",
    "µ = 3\n",
    "σ = 1.5\n",
    "poptarts = np.random.normal(µ, σ, size=(n_rows, n_cols)).round()\n",
    "poptarts = pd.DataFrame(poptarts, columns=[\"Mon\", \"Tues\", \"Wed\", \"Thur\", \"Fri\"])\n",
    "poptarts.head()"
   ]
  },
  {
   "cell_type": "code",
   "execution_count": 9,
   "id": "ac9aae29",
   "metadata": {},
   "outputs": [
    {
     "data": {
      "text/html": [
       "<div>\n",
       "<style scoped>\n",
       "    .dataframe tbody tr th:only-of-type {\n",
       "        vertical-align: middle;\n",
       "    }\n",
       "\n",
       "    .dataframe tbody tr th {\n",
       "        vertical-align: top;\n",
       "    }\n",
       "\n",
       "    .dataframe thead th {\n",
       "        text-align: right;\n",
       "    }\n",
       "</style>\n",
       "<table border=\"1\" class=\"dataframe\">\n",
       "  <thead>\n",
       "    <tr style=\"text-align: right;\">\n",
       "      <th></th>\n",
       "      <th>m</th>\n",
       "      <th>t</th>\n",
       "      <th>w</th>\n",
       "      <th>th</th>\n",
       "      <th>f</th>\n",
       "    </tr>\n",
       "  </thead>\n",
       "  <tbody>\n",
       "    <tr>\n",
       "      <th>0</th>\n",
       "      <td>3.0</td>\n",
       "      <td>3.0</td>\n",
       "      <td>5.0</td>\n",
       "      <td>5.0</td>\n",
       "      <td>1.0</td>\n",
       "    </tr>\n",
       "    <tr>\n",
       "      <th>1</th>\n",
       "      <td>3.0</td>\n",
       "      <td>5.0</td>\n",
       "      <td>1.0</td>\n",
       "      <td>2.0</td>\n",
       "      <td>4.0</td>\n",
       "    </tr>\n",
       "    <tr>\n",
       "      <th>2</th>\n",
       "      <td>2.0</td>\n",
       "      <td>1.0</td>\n",
       "      <td>3.0</td>\n",
       "      <td>2.0</td>\n",
       "      <td>3.0</td>\n",
       "    </tr>\n",
       "    <tr>\n",
       "      <th>3</th>\n",
       "      <td>4.0</td>\n",
       "      <td>5.0</td>\n",
       "      <td>3.0</td>\n",
       "      <td>4.0</td>\n",
       "      <td>4.0</td>\n",
       "    </tr>\n",
       "    <tr>\n",
       "      <th>4</th>\n",
       "      <td>4.0</td>\n",
       "      <td>2.0</td>\n",
       "      <td>3.0</td>\n",
       "      <td>3.0</td>\n",
       "      <td>3.0</td>\n",
       "    </tr>\n",
       "  </tbody>\n",
       "</table>\n",
       "</div>"
      ],
      "text/plain": [
       "     m    t    w   th    f\n",
       "0  3.0  3.0  5.0  5.0  1.0\n",
       "1  3.0  5.0  1.0  2.0  4.0\n",
       "2  2.0  1.0  3.0  2.0  3.0\n",
       "3  4.0  5.0  3.0  4.0  4.0\n",
       "4  4.0  2.0  3.0  3.0  3.0"
      ]
     },
     "execution_count": 9,
     "metadata": {},
     "output_type": "execute_result"
    }
   ],
   "source": [
    "rows = 10**5\n",
    "col = 5 \n",
    "mean = 3 \n",
    "std = 1.5 \n",
    "pop = np.random.normal(mean,std, size = (rows, col)).round()\n",
    "pop = pd.DataFrame(pop, columns = [ 'm', 't', 'w' , 'th' , 'f'])\n",
    "pop.head()"
   ]
  },
  {
   "cell_type": "code",
   "execution_count": 10,
   "id": "6af62e42",
   "metadata": {},
   "outputs": [
    {
     "data": {
      "text/html": [
       "<div>\n",
       "<style scoped>\n",
       "    .dataframe tbody tr th:only-of-type {\n",
       "        vertical-align: middle;\n",
       "    }\n",
       "\n",
       "    .dataframe tbody tr th {\n",
       "        vertical-align: top;\n",
       "    }\n",
       "\n",
       "    .dataframe thead th {\n",
       "        text-align: right;\n",
       "    }\n",
       "</style>\n",
       "<table border=\"1\" class=\"dataframe\">\n",
       "  <thead>\n",
       "    <tr style=\"text-align: right;\">\n",
       "      <th></th>\n",
       "      <th>Mon</th>\n",
       "      <th>Tues</th>\n",
       "      <th>Wed</th>\n",
       "      <th>Thur</th>\n",
       "      <th>Fri</th>\n",
       "      <th>n_consumed</th>\n",
       "    </tr>\n",
       "  </thead>\n",
       "  <tbody>\n",
       "    <tr>\n",
       "      <th>0</th>\n",
       "      <td>2.0</td>\n",
       "      <td>6.0</td>\n",
       "      <td>3.0</td>\n",
       "      <td>3.0</td>\n",
       "      <td>2.0</td>\n",
       "      <td>16.0</td>\n",
       "    </tr>\n",
       "    <tr>\n",
       "      <th>1</th>\n",
       "      <td>8.0</td>\n",
       "      <td>4.0</td>\n",
       "      <td>3.0</td>\n",
       "      <td>3.0</td>\n",
       "      <td>4.0</td>\n",
       "      <td>22.0</td>\n",
       "    </tr>\n",
       "    <tr>\n",
       "      <th>2</th>\n",
       "      <td>3.0</td>\n",
       "      <td>3.0</td>\n",
       "      <td>2.0</td>\n",
       "      <td>1.0</td>\n",
       "      <td>1.0</td>\n",
       "      <td>10.0</td>\n",
       "    </tr>\n",
       "    <tr>\n",
       "      <th>3</th>\n",
       "      <td>2.0</td>\n",
       "      <td>2.0</td>\n",
       "      <td>2.0</td>\n",
       "      <td>2.0</td>\n",
       "      <td>3.0</td>\n",
       "      <td>11.0</td>\n",
       "    </tr>\n",
       "    <tr>\n",
       "      <th>4</th>\n",
       "      <td>2.0</td>\n",
       "      <td>3.0</td>\n",
       "      <td>6.0</td>\n",
       "      <td>5.0</td>\n",
       "      <td>1.0</td>\n",
       "      <td>17.0</td>\n",
       "    </tr>\n",
       "  </tbody>\n",
       "</table>\n",
       "</div>"
      ],
      "text/plain": [
       "   Mon  Tues  Wed  Thur  Fri  n_consumed\n",
       "0  2.0   6.0  3.0   3.0  2.0        16.0\n",
       "1  8.0   4.0  3.0   3.0  4.0        22.0\n",
       "2  3.0   3.0  2.0   1.0  1.0        10.0\n",
       "3  2.0   2.0  2.0   2.0  3.0        11.0\n",
       "4  2.0   3.0  6.0   5.0  1.0        17.0"
      ]
     },
     "execution_count": 10,
     "metadata": {},
     "output_type": "execute_result"
    }
   ],
   "source": [
    "poptarts[\"n_consumed\"] = poptarts.sum(axis=1)\n",
    "poptarts.head()"
   ]
  },
  {
   "cell_type": "code",
   "execution_count": 11,
   "id": "9497e9de",
   "metadata": {},
   "outputs": [
    {
     "data": {
      "text/html": [
       "<div>\n",
       "<style scoped>\n",
       "    .dataframe tbody tr th:only-of-type {\n",
       "        vertical-align: middle;\n",
       "    }\n",
       "\n",
       "    .dataframe tbody tr th {\n",
       "        vertical-align: top;\n",
       "    }\n",
       "\n",
       "    .dataframe thead th {\n",
       "        text-align: right;\n",
       "    }\n",
       "</style>\n",
       "<table border=\"1\" class=\"dataframe\">\n",
       "  <thead>\n",
       "    <tr style=\"text-align: right;\">\n",
       "      <th></th>\n",
       "      <th>m</th>\n",
       "      <th>t</th>\n",
       "      <th>w</th>\n",
       "      <th>th</th>\n",
       "      <th>f</th>\n",
       "      <th>eat</th>\n",
       "    </tr>\n",
       "  </thead>\n",
       "  <tbody>\n",
       "    <tr>\n",
       "      <th>0</th>\n",
       "      <td>3.0</td>\n",
       "      <td>3.0</td>\n",
       "      <td>5.0</td>\n",
       "      <td>5.0</td>\n",
       "      <td>1.0</td>\n",
       "      <td>17.0</td>\n",
       "    </tr>\n",
       "    <tr>\n",
       "      <th>1</th>\n",
       "      <td>3.0</td>\n",
       "      <td>5.0</td>\n",
       "      <td>1.0</td>\n",
       "      <td>2.0</td>\n",
       "      <td>4.0</td>\n",
       "      <td>15.0</td>\n",
       "    </tr>\n",
       "    <tr>\n",
       "      <th>2</th>\n",
       "      <td>2.0</td>\n",
       "      <td>1.0</td>\n",
       "      <td>3.0</td>\n",
       "      <td>2.0</td>\n",
       "      <td>3.0</td>\n",
       "      <td>11.0</td>\n",
       "    </tr>\n",
       "    <tr>\n",
       "      <th>3</th>\n",
       "      <td>4.0</td>\n",
       "      <td>5.0</td>\n",
       "      <td>3.0</td>\n",
       "      <td>4.0</td>\n",
       "      <td>4.0</td>\n",
       "      <td>20.0</td>\n",
       "    </tr>\n",
       "    <tr>\n",
       "      <th>4</th>\n",
       "      <td>4.0</td>\n",
       "      <td>2.0</td>\n",
       "      <td>3.0</td>\n",
       "      <td>3.0</td>\n",
       "      <td>3.0</td>\n",
       "      <td>15.0</td>\n",
       "    </tr>\n",
       "  </tbody>\n",
       "</table>\n",
       "</div>"
      ],
      "text/plain": [
       "     m    t    w   th    f   eat\n",
       "0  3.0  3.0  5.0  5.0  1.0  17.0\n",
       "1  3.0  5.0  1.0  2.0  4.0  15.0\n",
       "2  2.0  1.0  3.0  2.0  3.0  11.0\n",
       "3  4.0  5.0  3.0  4.0  4.0  20.0\n",
       "4  4.0  2.0  3.0  3.0  3.0  15.0"
      ]
     },
     "execution_count": 11,
     "metadata": {},
     "output_type": "execute_result"
    }
   ],
   "source": [
    "pop['eat'] = pop.sum(axis = 1)\n",
    "pop.head()"
   ]
  },
  {
   "cell_type": "code",
   "execution_count": 12,
   "id": "19469e9d",
   "metadata": {},
   "outputs": [
    {
     "data": {
      "text/plain": [
       "0.66969"
      ]
     },
     "execution_count": 12,
     "metadata": {},
     "output_type": "execute_result"
    }
   ],
   "source": [
    "(pop.eat < 17).mean()"
   ]
  },
  {
   "cell_type": "code",
   "execution_count": 13,
   "id": "8bd0de20",
   "metadata": {},
   "outputs": [
    {
     "data": {
      "text/plain": [
       "0.6629"
      ]
     },
     "execution_count": 13,
     "metadata": {},
     "output_type": "execute_result"
    }
   ],
   "source": [
    "# What's the chance we can buy poptarts on Friday afternoon\n",
    "# This setup would predicate \n",
    "(poptarts.n_consumed < 17).mean()"
   ]
  },
  {
   "cell_type": "code",
   "execution_count": null,
   "id": "a6a6d7b2",
   "metadata": {},
   "outputs": [],
   "source": [
    "# exercise 5\n"
   ]
  },
  {
   "cell_type": "code",
   "execution_count": 20,
   "id": "4fcef7c6",
   "metadata": {},
   "outputs": [],
   "source": [
    "def How_tall():\n",
    "    male = np.random.normal(178, 8, size= 10**5),\n",
    "    female = np.random.normal(170, 6, size= 10**5),\n",
    "    (female > male). mean()\n",
    "    return (female > male). mean()\n",
    "\n",
    "\n",
    "                \n",
    "                       \n",
    "                       "
   ]
  },
  {
   "cell_type": "code",
   "execution_count": 35,
   "id": "06f7a835",
   "metadata": {},
   "outputs": [
    {
     "data": {
      "text/plain": [
       "0.20974"
      ]
     },
     "execution_count": 35,
     "metadata": {},
     "output_type": "execute_result"
    }
   ],
   "source": [
    "ale = np.random.normal(178, 8, size= 10**5),\n",
    "female = np.random.normal(170, 6, size= 10**5),\n",
    "(female > male). mean()"
   ]
  },
  {
   "cell_type": "code",
   "execution_count": 15,
   "id": "193d8553",
   "metadata": {},
   "outputs": [
    {
     "data": {
      "text/plain": [
       "0.2133"
      ]
     },
     "execution_count": 15,
     "metadata": {},
     "output_type": "execute_result"
    }
   ],
   "source": [
    "m_heights = np.random.normal(178, 8, size=10_000)\n",
    "f_heights = np.random.normal(170, 6, size=10_000)\n",
    "(f_heights > m_heights).mean()"
   ]
  },
  {
   "cell_type": "code",
   "execution_count": null,
   "id": "340c9ad0",
   "metadata": {},
   "outputs": [],
   "source": [
    "# Exercise 6"
   ]
  },
  {
   "cell_type": "code",
   "execution_count": 36,
   "id": "8aa5cc3c",
   "metadata": {},
   "outputs": [
    {
     "data": {
      "text/plain": [
       "0.82016"
      ]
     },
     "execution_count": 36,
     "metadata": {},
     "output_type": "execute_result"
    }
   ],
   "source": [
    "\n",
    "n_rows = 100_000\n",
    "n_columns = 50\n",
    "\n",
    "installs = np.random.choice([0, 1], p=[0.004, 0.996], size=(n_rows, n_columns))\n",
    "\n",
    "(installs.sum(axis=1) == 50).mean()"
   ]
  },
  {
   "cell_type": "code",
   "execution_count": 41,
   "id": "374e4692",
   "metadata": {},
   "outputs": [
    {
     "data": {
      "text/plain": [
       "0.81714"
      ]
     },
     "execution_count": 41,
     "metadata": {},
     "output_type": "execute_result"
    }
   ],
   "source": [
    "rows = 1000 * 100\n",
    "columns = 10 * 5\n",
    "\n",
    "install = np.random.choice([0, 1], p = [0.004, 0.996], size = (rows, columns))\n",
    "\n",
    "(install.sum(axis = 1)== 10 * 5).mean()\n"
   ]
  },
  {
   "cell_type": "code",
   "execution_count": 45,
   "id": "9a7e4133",
   "metadata": {},
   "outputs": [
    {
     "data": {
      "text/plain": [
       "0.66932"
      ]
     },
     "execution_count": 45,
     "metadata": {},
     "output_type": "execute_result"
    }
   ],
   "source": [
    "columns = 10 * 10\n",
    "\n",
    "install = np.random.choice([0, 1], p = [0.004, 0.996], size = (rows, columns))\n",
    "\n",
    "(install.sum(axis = 1)== 10 * 10).mean()\n",
    "\n"
   ]
  },
  {
   "cell_type": "code",
   "execution_count": 47,
   "id": "6aa5bfce",
   "metadata": {},
   "outputs": [
    {
     "data": {
      "text/plain": [
       "0.16414"
      ]
     },
     "execution_count": 47,
     "metadata": {},
     "output_type": "execute_result"
    }
   ],
   "source": [
    "columns = 10 * 45\n",
    "\n",
    "install = np.random.choice([0, 1], p = [0.004, 0.996], size = (rows, columns))\n",
    "\n",
    "(install.sum(axis = 1)== 10 * 45).mean()\n",
    "\n",
    "\n"
   ]
  },
  {
   "cell_type": "code",
   "execution_count": null,
   "id": "29d3d245",
   "metadata": {},
   "outputs": [],
   "source": [
    "# Exercise 7"
   ]
  },
  {
   "cell_type": "code",
   "execution_count": 48,
   "id": "8838c4c9",
   "metadata": {},
   "outputs": [],
   "source": [
    "# First Generated Test \n",
    "rows = 1000 * 10 \n",
    "col = 3 \n",
    "food_t = np.random.choice([1, 0], size=(n_rows, n_cols), p=[0.7, 0.3])"
   ]
  },
  {
   "cell_type": "code",
   "execution_count": 49,
   "id": "87bc6ad9",
   "metadata": {},
   "outputs": [
    {
     "data": {
      "text/plain": [
       "0.00242"
      ]
     },
     "execution_count": 49,
     "metadata": {},
     "output_type": "execute_result"
    }
   ],
   "source": [
    "(food_t.sum(axis=1) == 0).mean()"
   ]
  },
  {
   "cell_type": "code",
   "execution_count": 52,
   "id": "e69baafe",
   "metadata": {},
   "outputs": [
    {
     "data": {
      "text/plain": [
       "0.9089"
      ]
     },
     "execution_count": 52,
     "metadata": {},
     "output_type": "execute_result"
    }
   ],
   "source": [
    "cols = 5 \n",
    "food_t = np.random.choice([1, 0], size=(n_rows, n_cols), p=[0.7, 0.3])\n",
    "(food_t.sum(axis=1) > 0).mean()"
   ]
  },
  {
   "cell_type": "code",
   "execution_count": 51,
   "id": "999729bd",
   "metadata": {},
   "outputs": [
    {
     "data": {
      "text/plain": [
       "0.9104"
      ]
     },
     "execution_count": 51,
     "metadata": {},
     "output_type": "execute_result"
    }
   ],
   "source": [
    "cols = 2 \n",
    "food_t = np.random.choice([1, 0], size=(n_rows, n_cols), p=[0.7, 0.3])\n",
    "(food_t.sum(axis=1) > 0).mean()"
   ]
  },
  {
   "cell_type": "markdown",
   "id": "b15e6983",
   "metadata": {},
   "source": [
    "## Exercise 8\n",
    "If 23 people are in the same room, what are the odds that two of them share a birthday? What if it's 20 people? 40?\n"
   ]
  },
  {
   "cell_type": "code",
   "execution_count": 61,
   "id": "19afa1ad",
   "metadata": {},
   "outputs": [
    {
     "data": {
      "text/plain": [
       "0.5089"
      ]
     },
     "execution_count": 61,
     "metadata": {},
     "output_type": "execute_result"
    }
   ],
   "source": [
    "rows = 1000 * 10\n",
    "col = 23 \n",
    "b_day = np.random.choice(range(365), size=(rows, col))\n",
    "b_day = pd.DataFrame(b_day)\n",
    "b_day[\"n_unique\"] = b_day.nunique(axis=1)\n",
    "\n",
    "(b_day.n_unique != 23).mean()\n",
    "\n",
    "\n",
    "\n"
   ]
  },
  {
   "cell_type": "code",
   "execution_count": 64,
   "id": "9b8d4e44",
   "metadata": {},
   "outputs": [
    {
     "data": {
      "text/plain": [
       "0.4039"
      ]
     },
     "execution_count": 64,
     "metadata": {},
     "output_type": "execute_result"
    }
   ],
   "source": [
    "rows = 1000 * 10\n",
    "col = 20 \n",
    "b_day = np.random.choice(range(365), size=(rows, col))\n",
    "b_day = pd.DataFrame(b_day)\n",
    "b_day[\"n_unique\"] = b_day.nunique(axis=1)\n",
    "\n",
    "(b_day.n_unique != 20).mean()\n",
    "\n"
   ]
  },
  {
   "cell_type": "code",
   "execution_count": 65,
   "id": "be58fb6f",
   "metadata": {},
   "outputs": [
    {
     "data": {
      "text/plain": [
       "0.8895"
      ]
     },
     "execution_count": 65,
     "metadata": {},
     "output_type": "execute_result"
    }
   ],
   "source": [
    "rows = 1000 * 10\n",
    "col = 40\n",
    "b_day = np.random.choice(range(365), size=(rows, col))\n",
    "b_day = pd.DataFrame(b_day)\n",
    "b_day[\"n_unique\"] = b_day.nunique(axis=1)\n",
    "\n",
    "(b_day.n_unique != 40).mean()"
   ]
  },
  {
   "cell_type": "code",
   "execution_count": null,
   "id": "d324dfb1",
   "metadata": {},
   "outputs": [],
   "source": []
  }
 ],
 "metadata": {
  "kernelspec": {
   "display_name": "Python 3 (ipykernel)",
   "language": "python",
   "name": "python3"
  },
  "language_info": {
   "codemirror_mode": {
    "name": "ipython",
    "version": 3
   },
   "file_extension": ".py",
   "mimetype": "text/x-python",
   "name": "python",
   "nbconvert_exporter": "python",
   "pygments_lexer": "ipython3",
   "version": "3.9.7"
  }
 },
 "nbformat": 4,
 "nbformat_minor": 5
}
